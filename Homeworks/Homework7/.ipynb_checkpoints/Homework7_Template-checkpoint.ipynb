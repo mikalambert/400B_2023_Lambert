{
 "cells": [
  {
   "cell_type": "markdown",
   "metadata": {
    "ExecuteTime": {
     "end_time": "2020-01-26T08:48:31.926693Z",
     "start_time": "2020-01-26T08:48:31.923116Z"
    }
   },
   "source": [
    "# Homework 7 Template\n",
    "\n",
    "Rixin Li & G . Besla\n",
    "\n"
   ]
  },
  {
   "cell_type": "code",
   "execution_count": 1,
   "metadata": {
    "ExecuteTime": {
     "end_time": "2020-03-16T03:13:30.748911Z",
     "start_time": "2020-03-16T03:13:30.745053Z"
    }
   },
   "outputs": [],
   "source": [
    "# import necessary modules\n",
    "# numpy provides powerful multi-dimensional arrays to hold and manipulate data\n",
    "import numpy as np\n",
    "# matplotlib provides powerful functions for plotting figures\n",
    "import matplotlib.pyplot as plt\n",
    "# astropy provides unit system and constants for astronomical calculations\n",
    "import astropy.units as u\n",
    "import astropy.constants as const\n",
    "# import Latex module so we can display the results with symbols\n",
    "from IPython.display import Latex\n",
    "%matplotlib inline\n",
    "\n",
    "# **** import CenterOfMass to determine the COM pos/vel of M33\n",
    "from CenterOfMass2 import CenterOfMass\n",
    "\n",
    "# **** import the GalaxyMass to determine the mass of M31 for each component\n",
    "from GalaxyMass import ComponentMass\n",
    "\n"
   ]
  },
  {
   "cell_type": "markdown",
   "metadata": {},
   "source": [
    "# M33AnalyticOrbit"
   ]
  },
  {
   "cell_type": "code",
   "execution_count": 91,
   "metadata": {
    "ExecuteTime": {
     "end_time": "2020-03-16T03:08:14.820296Z",
     "start_time": "2020-03-16T03:08:14.800707Z"
    }
   },
   "outputs": [],
   "source": [
    "class M33AnalyticOrbit:\n",
    "    \"\"\" Calculate the analytical orbit of M33 around M31 \"\"\"\n",
    "    \n",
    "    def __init__(self, filename): # **** add inputs\n",
    "        \"\"\" This class calculates the position and velocity of the center of mass\n",
    "        for M33.\n",
    "        \n",
    "        Inputs: \n",
    "            filename: txt file\n",
    "                text file of the orbit of M33\n",
    "        Outputs:\n",
    "                None\n",
    "        \"\"\"\n",
    "        self.G = const.G.to(u.kpc**3/u.Msun/u.Gyr**2).value\n",
    "        \n",
    "        ### **** store the output file name\n",
    "        self.outputfilename = 'integrated_orbit.txt'\n",
    "        \n",
    "        ### get the current pos/vel of M33 \n",
    "        # **** create an instance of the  CenterOfMass class for M33 \n",
    "        COM_M33 = CenterOfMass('M33_000.txt', 2) # disk particles\n",
    "\n",
    "        # **** store the position VECTOR of the M33 COM (.value to get rid of units)\n",
    "        COM_p_M33 = COM_M33.COM_P(0.1,4)\n",
    "\n",
    "        # **** store the velocity VECTOR of the M33 COM (.value to get rid of units)\n",
    "        COM_v_M33 = COM_M33.COM_V(COM_p_M33[0], COM_p_M33[1], COM_p_M33[2])\n",
    "        \n",
    "        COM_p_M33 = COM_p_M33.value\n",
    "        COM_v_M33 = COM_v_M33.value\n",
    "        ### get the current pos/vel of M31 \n",
    "        # **** create an instance of the  CenterOfMass class for M31 \n",
    "        COM_M31 = CenterOfMass('M31_000.txt', 2)\n",
    "        \n",
    "        # **** store the position VECTOR of the M31 COM (.value to get rid of units)\n",
    "        COM_p_M31 = COM_M31.COM_P(0.1,2)\n",
    "        \n",
    "        # **** store the velocity VECTOR of the M31 COM (.value to get rid of units)\n",
    "        COM_v_M31 = COM_M31.COM_V(COM_p_M31[0], COM_p_M31[1], COM_p_M31[2]).value\n",
    "        \n",
    "        COM_p_M31 = COM_p_M31.value\n",
    "        ### store the DIFFERENCE between the vectors posM33 - posM31\n",
    "        # **** create two VECTORs self.r0 and self.v0 and have them be the\n",
    "        # relative position and velocity VECTORS of M33\n",
    "        self.r0 = COM_p_M33 - COM_p_M31\n",
    "        self.v0 = COM_v_M33 - COM_v_M31\n",
    "        \n",
    "        ### get the mass of each component in M31 \n",
    "        ### disk\n",
    "        # **** self.rdisk = scale length (no units)\n",
    "        self.rdisk = 5 #kpc\n",
    "        # **** self.Mdisk set with ComponentMass function. Remember to *1e12 to get the right units. Use the right ptype\n",
    "        self.Mdisk = 0.120*1e12\n",
    "        \n",
    "        \n",
    "        ### bulge\n",
    "        # **** self.rbulge = set scale length (no units)\n",
    "        self.rbulge = 1 #kpc\n",
    "        # **** self.Mbulge  set with ComponentMass function. Remember to *1e12 to get the right units Use the right ptype\n",
    "        self.Mbulge = 0.019*1e12\n",
    "        \n",
    "        # Halo\n",
    "        # **** self.rhalo = set scale length from HW5 (no units)\n",
    "        self.rhalo = 62\n",
    "        # **** self.Mhalo set with ComponentMass function. Remember to *1e12 to get the right units. Use the right ptype\n",
    "        self.Mhalo = 1.921*1e12\n",
    "    \n",
    "    \n",
    "    def HernquistAccel(self, M, r_a, r_vec): # it is easiest if you take as an input the position VECTOR \n",
    "        \"\"\" This function calculates the acceleration vector\n",
    "            using the Hernquist profile\n",
    "        \n",
    "        accel_vec = -GM/(r_mag*(r_a + r_mag)^2)* r_vec\n",
    "        \n",
    "        Inputs:\n",
    "                M: 'float'\n",
    "                    The total halo or bulge mass\n",
    "                r_a:'float'\n",
    "                    the scale length\n",
    "                \n",
    "                r_vec:'float'\n",
    "                    the vector of the relative position\n",
    "                \n",
    "        Outputs:\n",
    "                Hern: 'numpy array'\n",
    "                    acceleration vector for either the halo or bulge component of M33\n",
    "        \"\"\"\n",
    "        \n",
    "        ### **** Store the magnitude of the position vector\n",
    "        rmag = np.sqrt(r_vec[0]**2 + r_vec[1]**2 + r_vec[2]**2 )\n",
    "        \n",
    "        ### *** Store the Acceleration\n",
    "        Hern =  -self.G*M/(rmag *(r_a + rmag)**2) * r_vec \n",
    "        \n",
    "        #follow the formula in the HW instructions\n",
    "        # NOTE: we want an acceleration VECTOR so you need to make sure that in the Hernquist equation you \n",
    "        # use  -G*M/(rmag *(ra + rmag)**2) * r --> where the last r is a VECTOR \n",
    "        \n",
    "        return Hern\n",
    "    \n",
    "    \n",
    "    \n",
    "    def MiyamotoNagaiAccel(self, M, r_a, r_vec):# it is easiest if you take as an input a position VECTOR  r \n",
    "        \"\"\" This function calculates the acceleration vector \n",
    "            using the Miyamoto-Nagai 1975 profile\n",
    "        \n",
    "        accel_vec = -GM/((R^2+B^2)^1.5)* r_vec * (1,1,B/sqrt(z^2+zd^2))\n",
    "        R = sqrt(x^2+y^2)\n",
    "        B = rd+sqrt(z]**2+zd**2)\n",
    "        \n",
    "        Inputs:\n",
    "                M: 'float'\n",
    "                    The total disk mass\n",
    "                r_a:'float'\n",
    "                    the scale length of the disk\n",
    "                \n",
    "                r_vec:'float'\n",
    "                    the vector of the relative position of M33\n",
    "                \n",
    "        Outputs:\n",
    "                MiyamotoAccel: 'numpy array'\n",
    "                    acceleration vector for either the disk component of M33\n",
    "        \"\"\"\n",
    " \n",
    "        ### Acceleration **** follow the formula in the HW instructions\n",
    "        # AGAIN note that we want a VECTOR to be returned  (see Hernquist instructions)\n",
    "        # this can be tricky given that the z component is different than in the x or y directions. \n",
    "        # we can deal with this by multiplying the whole thing by an extra array that accounts for the \n",
    "        # differences in the z direction:\n",
    "        #  multiply the whle thing by :   np.array([1,1,ZSTUFF]) \n",
    "        # where ZSTUFF are the terms associated with the z direction\n",
    "        rd = self.rdisk\n",
    "        zd = self.rdisk/5.\n",
    "        \n",
    "        R = np.sqrt(r_vec[0]**2+r_vec[1]**2)\n",
    "        B = rd+np.sqrt(r_vec[2]**2+zd**2)\n",
    "        \n",
    "        Miyamoto = -(self.G*M/(R**2+B**2)**1.5)*r_vec\n",
    "        \n",
    "        ZSTUFF = B/np.sqrt(r_vec[2]**2+zd**2)\n",
    "        MiyamotoAccel = Miyamoto*np.array([1,1,ZSTUFF])\n",
    "        \n",
    "       \n",
    "        return MiyamotoAccel\n",
    "        # the np.array allows for a different value for the z component of the acceleration\n",
    "     \n",
    "    \n",
    "    def M31Accel(self, r_vec): # input should include the position vector, r\n",
    "        \"\"\" This function calculates the acceleration vectors for the halo, bulge and disk\n",
    "        using the hernquist profile for the halo and bulge and Miyamoto-Nagai 1975 profile\n",
    "        for the disk\n",
    "        \n",
    "        Inputs: \n",
    "                r_vec: 'array'\n",
    "                    a numpy array representing the position vector in x, y, z coords\n",
    "                \n",
    "        Outputs:\n",
    "                summ:'array'\n",
    "                    a numpy array of the sum of the halo, bulge and disk accleration components \n",
    "                    in x, y, z coordinates\n",
    "                \n",
    "        \"\"\"\n",
    "\n",
    "        ### Call the previous functions for the halo, bulge and disk\n",
    "        halo_accel = self.HernquistAccel(self.Mhalo, self.rhalo, r_vec)\n",
    "        bulge_accel = self.HernquistAccel(self.Mbulge, self.rbulge, r_vec)\n",
    "        disk_accel = self.MiyamotoNagaiAccel(self.Mdisk, self.rdisk, r_vec)\n",
    "        # **** these functions will take as inputs variable we defined in the initialization of the class like \n",
    "        # self.rdisk etc. \n",
    "        summ = halo_accel+bulge_accel+disk_accel\n",
    "        # return the SUM of the output of the acceleration functions - this will return a VECTOR \n",
    "        return summ\n",
    "    \n",
    "    \n",
    "    def LeapFrog(self,dt, r_vec, v_vec): # take as input r and v, which are VECTORS. Assume it is ONE vector at a time\n",
    "        \"\"\" This function integrates the equations of motion using the leap frog method\n",
    "            of integration. It uses kinematic equations to calulate the next position and\n",
    "            velocity steps\n",
    "            \n",
    "        Inputs:\n",
    "                dt: 'float'\n",
    "                    time interval to integrate on\n",
    "                r_vec:'array'\n",
    "                    position vector in x, y, z coords.\n",
    "                v_vec:'array'\n",
    "                    velocity vector in x,y,z coords.\n",
    "        Outputs:\n",
    "                rnew:'array'\n",
    "                    A new positional vector after a step dt\n",
    "                vnew:'array'\n",
    "                    A new velocity vector after a step dt\n",
    "        \"\"\"\n",
    "        \n",
    "        # predict the position at the next half timestep\n",
    "        rhalf = r_vec + v_vec*dt/2\n",
    "        \n",
    "        # predict the final velocity at the next timestep using the acceleration field at the rhalf position \n",
    "        accel = self.M31Accel(rhalf)\n",
    "        vnew = v_vec + accel*dt\n",
    "        \n",
    "        # predict the final position using the average of the current velocity and the final velocity\n",
    "        # this accounts for the fact that we don't know how the speed changes from the current timestep to the \n",
    "        # next, so we approximate it using the average expected speed over the time interval dt. \n",
    "        rnew = rhalf + vnew*dt/2\n",
    "        \n",
    "        return rnew, vnew # **** return the new position and velcoity vectors\n",
    "    \n",
    "    \n",
    "    \n",
    "    def OrbitIntegration(self, t0, dt, tmax):\n",
    "        \"\"\"This function creates a text file of the integrated acceleration\n",
    "        to calculate the position and velocity vector components looping \n",
    "        over the LeapFrog function\n",
    "        \n",
    "        Inputs:\n",
    "                t0:'float'\n",
    "                    initial time to start integration\n",
    "                dt:'float'\n",
    "                    interval over which the integration loops over\n",
    "                tmax:'float'\n",
    "                    final time to stop integration\n",
    "        \n",
    "        Outputs:\n",
    "                None\n",
    "        \n",
    "        \n",
    "        \"\"\"\n",
    "\n",
    "        # initialize the time to the input starting time\n",
    "        t = t0\n",
    "        \n",
    "        # initialize an empty array of size :  rows int(tmax/dt)+2  , columns 7\n",
    "        orbit = np.zeros((int(tmax/dt)+2, 7))\n",
    "        \n",
    "        # initialize the first row of the orbit\n",
    "        orbit[0] = t0, *tuple(self.r0), *tuple(self.v0)\n",
    "        # this above is equivalent to \n",
    "        # orbit[0] = t0, self.r0[0], self.r0[1], self.r0[2], self.v0[0], self.v0[1], self.v0[2]\n",
    "        print(orbit[0])\n",
    "        \n",
    "        # initialize a counter for the orbit.  \n",
    "        i = 1 # since we already set the 0th values, we start the counter at 1\n",
    "        \n",
    "        # start the integration (advancing in time steps and computing LeapFrog at each step)\n",
    "        while (t<tmax):  # as long as t has not exceeded the maximal time \n",
    "            \n",
    "            # **** advance the time by one timestep, dt\n",
    "            t+=dt\n",
    "            # **** store the new time in the first column of the ith row\n",
    "            orbit[i, 0] = t\n",
    "            \n",
    "            # ***** advance the position and velocity using the LeapFrog scheme\n",
    "            # remember that LeapFrog returns a position vector and a velocity vector  \n",
    "            # as an example, if a function returns three vectors you would call the function and store \n",
    "            # the variable like:     a,b,c = function(input)\n",
    "            #print(orbit)\n",
    "            pos_orbit = np.array([orbit[i-1][1], orbit[i-1][2], orbit[i-1][3]])\n",
    "            \n",
    "            vel_orbit = np.array([orbit[i-1][4], orbit[i-1][5], orbit[i-1][6]])\n",
    "            \n",
    "            r, v = self.LeapFrog(dt,pos_orbit,vel_orbit)\n",
    "         \n",
    "            \n",
    "            # ****  store the new position vector into the columns with indexes 1,2,3 of the ith row of orbit\n",
    "            # TIP:  if you want columns 5-7 of the Nth row of an array called A, you would write : \n",
    "            # A[n, 5:8] \n",
    "            # where the syntax is row n, start at column 5 and end BEFORE column 8\n",
    "            orbit[i,1:4] = r \n",
    "            \n",
    "            # ****  store the new position vector into the columns with indexes 1,2,3 of the ith row of orbit\n",
    "            orbit[i,4:7] = v\n",
    "            \n",
    "            # **** update counter i , where i is keeping track of the number of rows (i.e. the number of time steps)\n",
    "            i+=1\n",
    "        \n",
    "        \n",
    "        # write the data to a file\n",
    "        np.savetxt(self.outputfilename, orbit, fmt = \"%11.3f\"*7, comments='#', \n",
    "                   header=\"{:>10s}{:>11s}{:>11s}{:>11s}{:>11s}{:>11s}{:>11s}\"\\\n",
    "                   .format('t', 'x', 'y', 'z', 'vx', 'vy', 'vz'))\n",
    "        \n",
    "        # there is no return function\n",
    "\n",
    "        "
   ]
  },
  {
   "cell_type": "code",
   "execution_count": 92,
   "metadata": {},
   "outputs": [
    {
     "name": "stdout",
     "output_type": "stream",
     "text": [
      "[   0.    -98.45 -120.03 -127.81  -27.7   174.12   92.49]\n"
     ]
    }
   ],
   "source": [
    "# initialize the class\n",
    "M33_orbit = M33AnalyticOrbit('M33_000.txt') # disk particles\n",
    "M33_orbit.OrbitIntegration(0, .1, 10)"
   ]
  },
  {
   "cell_type": "code",
   "execution_count": 93,
   "metadata": {},
   "outputs": [],
   "source": [
    "# extracting the orbit data from the text file\n",
    "M33_orbit = np.genfromtxt('integrated_orbit.txt',dtype=None,names=True) \n",
    "M33_orbit_t = M33_orbit['t']\n",
    "\n",
    "M33_orbit_x = M33_orbit['x']\n",
    "M33_orbit_y = M33_orbit['y']\n",
    "M33_orbit_z = M33_orbit['z']\n",
    "\n",
    "M33_orbit_vx = M33_orbit['vx']\n",
    "M33_orbit_vy = M33_orbit['vy']\n",
    "M33_orbit_vz = M33_orbit['vz']\n",
    "\n",
    "# finding the position and velocity vector magnitudes\n",
    "M33_orbit_r = np.sqrt(M33_orbit_x**2+M33_orbit_y**2+M33_orbit_z**2)\n",
    "M33_orbit_vr = np.sqrt(M33_orbit_vx**2+M33_orbit_vy**2+M33_orbit_vz**2)\n"
   ]
  },
  {
   "cell_type": "code",
   "execution_count": 94,
   "metadata": {},
   "outputs": [
    {
     "data": {
      "image/png": "[encoded data removed]",
      "text/plain": [
       "<Figure size 432x288 with 1 Axes>"
      ]
     },
     "metadata": {
      "needs_background": "light"
     },
     "output_type": "display_data"
    },
    {
     "data": {
      "text/plain": [
       "Text(0, 0.5, 'separation [kpc]')"
      ]
     },
     "execution_count": 94,
     "metadata": {},
     "output_type": "execute_result"
    },
    {
     "data": {
      "image/png": "[encoded data removed]",
      "text/plain": [
       "<Figure size 432x288 with 1 Axes>"
      ]
     },
     "metadata": {
      "needs_background": "light"
     },
     "output_type": "display_data"
    }
   ],
   "source": [
    "plt.plot(t, M33_orbit_r,'.', color='blue')\n",
    "plt.xlabel('t [Gyrs]')\n",
    "plt.ylabel('separation [kpc]')\n",
    "plt.show()\n",
    "plt.plot(t, M33_orbit_vr, '.', color='orange')\n",
    "plt.xlabel('t [Gyrs]')\n",
    "plt.ylabel('separation [kpc]')"
   ]
  },
  {
   "cell_type": "code",
   "execution_count": 101,
   "metadata": {},
   "outputs": [
    {
     "name": "stdout",
     "output_type": "stream",
     "text": [
      "800\n"
     ]
    },
    {
     "data": {
      "image/png": "[encoded data removed]",
      "text/plain": [
       "<Figure size 432x288 with 1 Axes>"
      ]
     },
     "metadata": {
      "needs_background": "light"
     },
     "output_type": "display_data"
    },
    {
     "data": {
      "text/plain": [
       "<matplotlib.legend.Legend at 0x7ff4d8d8fe20>"
      ]
     },
     "execution_count": 101,
     "metadata": {},
     "output_type": "execute_result"
    },
    {
     "data": {
      "image/png": "[encoded data removed]",
      "text/plain": [
       "<Figure size 432x288 with 1 Axes>"
      ]
     },
     "metadata": {
      "needs_background": "light"
     },
     "output_type": "display_data"
    }
   ],
   "source": [
    "# overlaying the plots from HW6\n",
    "M31_data = np.genfromtxt('Orbit_M31.txt')\n",
    "print(len(M31_data))\n",
    "M33_data = np.genfromtxt('Orbit_M33.txt')\n",
    "\n",
    "def mag_difference(x1, x2, y1, y2, z1, z2):\n",
    "    '''\n",
    "    This function computes the magnitude of the difference between two vectors.\n",
    "    \n",
    "    inputs:\n",
    "        vec1: 'numpy array'\n",
    "            an array of the first vector\n",
    "        vec2: 'numpy array'\n",
    "            an array of the second vector\n",
    "    outputs:\n",
    "        pos_rel:'array'\n",
    "            relative position of the vectors\n",
    "        vec_rel:'array'\n",
    "            relative velocity of the two galaxies\n",
    "    '''\n",
    "    \n",
    "    mag = np.sqrt((x2-x1)**2 + (y2-y1)**2 + (z2-z1)**2)\n",
    "    \n",
    "    return mag\n",
    "\n",
    "#getting the columns for the M31\n",
    "M31_t = M31_data[:,0]\n",
    "M31_x = M31_data[:,1]\n",
    "M31_y = M31_data[:,2]\n",
    "M31_z = M31_data[:,3]\n",
    "M31_vx = M31_data[:,4]\n",
    "M31_vy = M31_data[:,5]\n",
    "M31_vz = M31_data[:,6]\n",
    "#getting the columns for the M33\n",
    "M33_t = M33_data[:,0]\n",
    "M33_x = M33_data[:,1]\n",
    "M33_y = M33_data[:,2]\n",
    "M33_z = M33_data[:,3]\n",
    "M33_vx = M33_data[:,4]\n",
    "M33_vy = M33_data[:,5]\n",
    "M33_vz = M33_data[:,6]\n",
    "\n",
    "\n",
    "# findimg the separation between M33 and M31\n",
    "M33_M31_diff_pos = mag_difference(M33_x, M31_x,\n",
    "                                  M33_y, M31_y,\n",
    "                                  M33_z, M31_z)\n",
    "\n",
    "# finding the velocity separation between M33 and M31\n",
    "M33_M31_diff_vel = mag_difference(M33_vx, M31_vx, \n",
    "                                  M33_vy, M31_vy,\n",
    "                                  M33_vz, M31_vz)\n",
    "\n",
    "\n",
    "# plot positions of the galaxy\n",
    "plt.plot(M31_t, M33_M31_diff_pos,color='m', linewidth=3, label='M33-M31 true')\n",
    "plt.plot(t, M33_orbit_r, color='blue',linestyle='--',linewidth=3, label='M33-M31 gravity') # new orbit\n",
    "plt.ylabel('positional separation [kpc]')\n",
    "plt.xlabel('time [Gyrs]')\n",
    "\n",
    "plt.legend()    \n",
    "plt.show()\n",
    "\n",
    "# Plot the orbital velocities of the galaxies \n",
    "plt.plot(M31_t, M33_M31_diff_vel,color='m', linewidth=3, label='M33-M31 true')\n",
    "plt.plot(t, M33_orbit_vr, color='orange',linestyle='--', linewidth=3, label='M33-M31 gravity') # new orbit\n",
    "plt.ylabel('velocity separation [kpc]')\n",
    "plt.xlabel('time [Gyrs]')\n",
    "plt.legend()"
   ]
  },
  {
   "cell_type": "markdown",
   "metadata": {},
   "source": [
    "# How do the plots compare?\n",
    "\n",
    "We see that the for the position plots, the positions start out the same, but deviate after about 1.8Gyrs.\n",
    "The purple line shows multiple times where the separation between M31 and M33 are at a local mimimum and maximum, but the blue line shows us that the separation between M31 and M33 peaks at about 6 Gyrs. In parallel, we see in the velocity figure, in orange, that there is one minimum point when the velocity separation is smallest at about 6 Gyrs. This is due to us only taking into account the graviatinal effects of just M31 on M33 and not accounting for the MW. So, these plots in blue and orange are showing only the graviational effects of M31 on M33 in isolation."
   ]
  },
  {
   "cell_type": "markdown",
   "metadata": {},
   "source": [
    "# what missing physics could make a difference?\n",
    "\n",
    "\n",
    "The main force we did not account for that would make a difference is dynamical friction.\n",
    "From the blue and orange plots we see that there is no drag on M33 which otherwise would've caused the orbit of M33 to decay similar to the purple line."
   ]
  },
  {
   "cell_type": "markdown",
   "metadata": {},
   "source": [
    "# the milky way is missing in these calculations. How might you include it's effects?\n",
    "\n",
    "\n",
    "You would need to find the relative position and velocity of M33 compared to the MW. \n",
    "To caluclate the gravitational acceleration, we would have to account for both the force on M33 from M31 and the force on M33 from the MW and add those two forces together. We would have to do this for each component of the galaxy where we use the Hernqiust profile for the halo and bulge and the Miyamoto-Nagai profile for the disk particles.\n",
    "Then you would use the leapfrog function to integrate this orbit."
   ]
  },
  {
   "cell_type": "code",
   "execution_count": null,
   "metadata": {},
   "outputs": [],
   "source": []
  }
 ],
 "metadata": {
  "kernelspec": {
   "display_name": "Python 3",
   "language": "python",
   "name": "python3"
  },
  "language_info": {
   "codemirror_mode": {
    "name": "ipython",
    "version": 3
   },
   "file_extension": ".py",
   "mimetype": "text/x-python",
   "name": "python",
   "nbconvert_exporter": "python",
   "pygments_lexer": "ipython3",
   "version": "3.8.5"
  },
  "toc": {
   "base_numbering": 1,
   "nav_menu": {},
   "number_sections": true,
   "sideBar": true,
   "skip_h1_title": false,
   "title_cell": "Table of Contents",
   "title_sidebar": "Contents",
   "toc_cell": false,
   "toc_position": {},
   "toc_section_display": true,
   "toc_window_display": false
  },
  "varInspector": {
   "cols": {
    "lenName": 16,
    "lenType": 16,
    "lenVar": 40
   },
   "kernels_config": {
    "python": {
     "delete_cmd_postfix": "",
     "delete_cmd_prefix": "del ",
     "library": "var_list.py",
     "varRefreshCmd": "print(var_dic_list())"
    },
    "r": {
     "delete_cmd_postfix": ") ",
     "delete_cmd_prefix": "rm(",
     "library": "var_list.r",
     "varRefreshCmd": "cat(var_dic_list()) "
    }
   },
   "types_to_exclude": [
    "module",
    "function",
    "builtin_function_or_method",
    "instance",
    "_Feature"
   ],
   "window_display": false
  }
 },
 "nbformat": 4,
 "nbformat_minor": 4
}
