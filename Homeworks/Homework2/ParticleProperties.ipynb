{
 "cells": [
  {
   "cell_type": "code",
   "execution_count": 2,
   "metadata": {},
   "outputs": [],
   "source": [
    "# imports\n",
    "import numpy as np\n",
    "import astropy.units as u\n",
    "from ReadFile import Read"
   ]
  },
  {
   "cell_type": "code",
   "execution_count": 3,
   "metadata": {},
   "outputs": [],
   "source": [
    "def ParticleInfo(filename, particle_type, particle_num):\n",
    "    '''\n",
    "    This function reads in a text file, find the magnitude of the distance using the x,y,z coordinates,\n",
    "    magnitude of the velocity using the vx,vy,vz velocities,and mass in solar units of a particle\n",
    "    given the particle type and number.\n",
    "    inputs: \n",
    "            filename: the name of the text file\n",
    "            particle_type: an integer corresponding to the type of particle the user wants\n",
    "                            (type 1=dark matter, 2=disk, 3=bulge)\n",
    "            particle_num: an integer designating particle number\n",
    "    returns: the magnitude of the distance in kpc, the magnitude of the velocity in km/s, and the mass \n",
    "            of the particle in solar masses\n",
    "    '''\n",
    "\n",
    "    time, particle_total, data = Read(filename) # retrieving the time, total number of particles, and data\n",
    "    particle_type_data = data['type']  # a numpy array of the particle types\n",
    "    index = np.where(particle_type == particle_type_data) # finding the index of the particle type\n",
    "    \n",
    "    # locating the x,y,z distances and vx,vy,vz velocities of the particle\n",
    "    # given the specific particle number the user wants\n",
    "    x = data['x'][index][particle_num-1]\n",
    "    y = data['y'][index][particle_num-1]\n",
    "    z = data['z'][index][particle_num-1]\n",
    "    vx = data['vx'][index][particle_num-1]\n",
    "    vy = data['vy'][index][particle_num-1]\n",
    "    vz = data['vz'][index][particle_num-1]\n",
    "    \n",
    "    \n",
    "    # magnitude of the distance in kpc\n",
    "    distance = np.sqrt(x**2+y**2+z**2)\n",
    "    distance = np.round(distance, 3) # round distance to 3 decimal places\n",
    "    # magnitude of the velocity in km/s\n",
    "    velocity = np.sqrt(vx**2+vy**2+vz**2)\n",
    "    velocity = np.round(velocity, 3) # round distance to 3 decimal places\n",
    "    \n",
    "    # mass in solar units\n",
    "    mass = data['m'][index][particle_num-1] # mass given in 1e10 solar masses\n",
    "    mass = mass*10**10 # coverting mass to solar units \n",
    "    \n",
    "    return distance*u.kpc, velocity*u.km/u.s, mass*u.M_sun"
   ]
  },
  {
   "cell_type": "code",
   "execution_count": 4,
   "metadata": {},
   "outputs": [],
   "source": [
    "# location of local file\n",
    "filename = '/Users/mikalambert/Astro_classes/ASTR400B/400B_2023_Lambert/Homeworks/Homework2/MW_000.txt'\n",
    "\n",
    "\n",
    "# type 1=dark matter, 2=disk, 3=bulge\n",
    "# user inputs for type and particle number\n",
    "particle_type = 2\n",
    "particle_num = 100\n",
    "\n",
    "# retrieving 3D distance in kpc, 3D velocity in km/s, and mass in M_sun\n",
    "distance, velocity, mass = ParticleInfo(filename, particle_type, particle_num)\n",
    "\n",
    "# converting the distance from kpc to light years\n",
    "dis_lyr = distance.to(u.lyr)\n",
    "dis_lyr = round(dis_lyr.value,3) *u.lyr"
   ]
  },
  {
   "cell_type": "code",
   "execution_count": 12,
   "metadata": {},
   "outputs": [
    {
     "name": "stdout",
     "output_type": "stream",
     "text": [
      "distance: 4.245 kpc \n",
      "velocity: 312.135 km / s \n",
      "mass: 1000000.0 solMass\n"
     ]
    }
   ],
   "source": [
    "print(\"distance:\",distance,'\\nvelocity:', velocity,'\\nmass:', mass)"
   ]
  },
  {
   "cell_type": "code",
   "execution_count": 14,
   "metadata": {},
   "outputs": [
    {
     "name": "stdout",
     "output_type": "stream",
     "text": [
      "distance in light years: 13845.338 lyr\n"
     ]
    }
   ],
   "source": [
    "print(\"distance in light years:\",dis_lyr)"
   ]
  },
  {
   "cell_type": "code",
   "execution_count": null,
   "metadata": {},
   "outputs": [],
   "source": []
  }
 ],
 "metadata": {
  "kernelspec": {
   "display_name": "Python 3",
   "language": "python",
   "name": "python3"
  },
  "language_info": {
   "codemirror_mode": {
    "name": "ipython",
    "version": 3
   },
   "file_extension": ".py",
   "mimetype": "text/x-python",
   "name": "python",
   "nbconvert_exporter": "python",
   "pygments_lexer": "ipython3",
   "version": "3.8.5"
  },
  "toc": {
   "base_numbering": 1,
   "nav_menu": {},
   "number_sections": true,
   "sideBar": true,
   "skip_h1_title": false,
   "title_cell": "Table of Contents",
   "title_sidebar": "Contents",
   "toc_cell": false,
   "toc_position": {},
   "toc_section_display": true,
   "toc_window_display": false
  }
 },
 "nbformat": 4,
 "nbformat_minor": 4
}
