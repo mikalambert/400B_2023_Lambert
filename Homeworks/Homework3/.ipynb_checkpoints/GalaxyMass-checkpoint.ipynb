{
 "cells": [
  {
   "cell_type": "code",
   "execution_count": 1,
   "metadata": {},
   "outputs": [],
   "source": [
    "#imports\n",
    "import numpy as np\n",
    "from ReadFile import Read\n",
    "# to create table\n",
    "from tabulate import tabulate\n",
    "import pandas as pd "
   ]
  },
  {
   "cell_type": "code",
   "execution_count": 2,
   "metadata": {},
   "outputs": [],
   "source": [
    "def ComponentMass(filename, particle_type):\n",
    "    '''\n",
    "    This function calculates the total mass of any component of the galaxy from a given file.\n",
    "    inputs:\n",
    "         filename: the name of the text file\n",
    "         particle_type: an integer corresponding to the type of particle the user wants\n",
    "                            (type 1=dark matter, 2=disk, 3=bulge)\n",
    "    outputs:\n",
    "        mass:total mass of the component in 10^12 solar masses\n",
    "    '''\n",
    "    time, particle_total, data = Read(filename) # retrieving the time, total number of particles, and data\n",
    "    particle_type_data = data['type']  # a numpy array of the particle types\n",
    "    index = np.where(particle_type == particle_type_data) # finding the index of the particle type\n",
    "    \n",
    "    \n",
    "    # sum up the mass for the particle type\n",
    "    mass = sum(data['m'][index]) # mass is given in 1e10 solar masses\n",
    "    mass = np.round(mass/100, 3) # coverting mass from 10^10 to 10^12 solar masses and rounding to 3 decimals\n",
    "    return mass"
   ]
  },
  {
   "cell_type": "code",
   "execution_count": 11,
   "metadata": {},
   "outputs": [
    {
     "name": "stdout",
     "output_type": "stream",
     "text": [
      "{'Milky Way': {'dark matter halo': 1.975, 'disk': 0.075, 'bulge': 0.01}, 'M31': {'dark matter halo': 1.921, 'disk': 0.12, 'bulge': 0.019}, 'M33': {'dark matter halo': 0.187, 'disk': 0.009, 'bulge': 0.0}}\n"
     ]
    }
   ],
   "source": [
    "# location of local file\n",
    "filename_MW = '/Users/mikalambert/Astro_classes/ASTR400B/400B_2023_Lambert/Homeworks/Homework3/MW_000.txt'\n",
    "filename_M31 = '/Users/mikalambert/Astro_classes/ASTR400B/400B_2023_Lambert/Homeworks/Homework3/M31_000.txt'\n",
    "filename_M33 = '/Users/mikalambert/Astro_classes/ASTR400B/400B_2023_Lambert/Homeworks/Homework3/M33_000.txt'\n",
    "\n",
    "### type 1=dark matter halo, 2=disk, 3=bulge\n",
    "### finding total mass for each component for each galaxy\n",
    "num_of_files = 3 # number of galaxy files\n",
    "file_list = [filename_MW, filename_M31, filename_M33] # list of file names\n",
    "galaxy_name = ['Milky Way', 'M31', 'M33'] # list of galaxy names\n",
    "galaxy_component = ['dark matter halo', 'disk', 'bulge'] # lst of galaxy components\n",
    "galaxy_dict = {} # initialize galaxy dictionary\n",
    "\n",
    "for i in range(0, len(galaxy_name)): # loop through the number of galaxies\n",
    "    component_dict = {} # initialize component dictionary\n",
    "    for particle_type in range(1,len(galaxy_component)+1): # loop over each galaxy component\n",
    "        total_component_mass = ComponentMass(file_list[i], particle_type) # find total mass of current component\n",
    "        component_dict[galaxy_component[particle_type-1]] = total_component_mass # add to component dictionary\n",
    "    galaxy_dict[galaxy_name[i]] = component_dict  # add all components to galaxy dictionary\n",
    "    \n",
    "\n",
    "print(galaxy_dict)\n"
   ]
  },
  {
   "cell_type": "code",
   "execution_count": 12,
   "metadata": {},
   "outputs": [
    {
     "name": "stdout",
     "output_type": "stream",
     "text": [
      "sum Milky Way 2.06\n",
      "sum stellar Milky Way 0.08499999999999999\n",
      "baryon 0.04126213592233009\n",
      "sum M31 2.06\n",
      "sum stellar M31 0.13899999999999998\n",
      "baryon 0.0674757281553398\n",
      "sum M33 0.196\n",
      "sum stellar M33 0.009\n",
      "baryon 0.04591836734693877\n",
      "[2.06, 2.06, 0.196] [0.041, 0.067, 0.046]\n"
     ]
    }
   ],
   "source": [
    "# calculate the sum of the masses of each galaxy\n",
    "\n",
    "totals = []\n",
    "baryon_fraction = []\n",
    "for key, value in galaxy_dict.items(): # calling galaxy dictionary\n",
    "    summ = 0\n",
    "    sum_stellar = 0 # total stellar mass\n",
    "    for key2, value2 in value.items(): # calling component dictionary\n",
    "        summ +=value2 # summing up each component mass\n",
    "        if key2 == 'disk' or key2 =='bulge':\n",
    "            sum_stellar+=value2\n",
    "    print(\"sum\",key, summ)\n",
    "    print('sum stellar', key, sum_stellar)\n",
    "    print('baryon', sum_stellar/summ)\n",
    "    totals.append(summ)\n",
    "    baryon_fraction.append(round(sum_stellar/summ, 3))\n",
    "print(totals, baryon_fraction)"
   ]
  },
  {
   "cell_type": "code",
   "execution_count": 15,
   "metadata": {},
   "outputs": [
    {
     "name": "stdout",
     "output_type": "stream",
     "text": [
      "total mass in local group is 4.316\n"
     ]
    }
   ],
   "source": [
    "# adding the total masses list  to the dictionary\n",
    "# and calculating the total mass in the local group\n",
    "i = 0\n",
    "total_local_group = 0\n",
    "for key, value in galaxy_dict.items():\n",
    "    value['totals'] = totals[i] # adding total values to the galaxy dictionary\n",
    "    value[r'f_{bar}'] = baryon_fraction[i] # adding baryon fraction to dictionary\n",
    "    total_local_group += totals[i] # summing up total mass of the local group\n",
    "    i+=1\n",
    "    \n",
    "print('total mass in local group is',total_local_group)"
   ]
  },
  {
   "cell_type": "code",
   "execution_count": 16,
   "metadata": {},
   "outputs": [
    {
     "name": "stdout",
     "output_type": "stream",
     "text": [
      "           dark matter halo   disk  bulge  totals  f_{bar}\n",
      "Milky Way             1.975  0.075  0.010   2.060    0.041\n",
      "M31                   1.921  0.120  0.019   2.060    0.067\n",
      "M33                   0.187  0.009  0.000   0.196    0.046\n"
     ]
    }
   ],
   "source": [
    "# printing out the data in table form\n",
    "df = pd.DataFrame(galaxy_dict).T\n",
    "print(df)"
   ]
  },
  {
   "cell_type": "code",
   "execution_count": null,
   "metadata": {},
   "outputs": [],
   "source": []
  }
 ],
 "metadata": {
  "kernelspec": {
   "display_name": "Python 3",
   "language": "python",
   "name": "python3"
  },
  "language_info": {
   "codemirror_mode": {
    "name": "ipython",
    "version": 3
   },
   "file_extension": ".py",
   "mimetype": "text/x-python",
   "name": "python",
   "nbconvert_exporter": "python",
   "pygments_lexer": "ipython3",
   "version": "3.8.5"
  },
  "toc": {
   "base_numbering": 1,
   "nav_menu": {},
   "number_sections": true,
   "sideBar": true,
   "skip_h1_title": false,
   "title_cell": "Table of Contents",
   "title_sidebar": "Contents",
   "toc_cell": false,
   "toc_position": {},
   "toc_section_display": true,
   "toc_window_display": false
  }
 },
 "nbformat": 4,
 "nbformat_minor": 4
}
