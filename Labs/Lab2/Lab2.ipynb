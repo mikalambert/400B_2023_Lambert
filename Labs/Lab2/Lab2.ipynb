{
 "cells": [
  {
   "cell_type": "code",
   "execution_count": 41,
   "metadata": {},
   "outputs": [],
   "source": [
    "# ASTR 400 B \n",
    "# In Class Lab 2\n",
    "\n",
    "# Import Modules \n",
    "import numpy as np\n",
    "import matplotlib\n",
    "import matplotlib.pyplot as plt\n",
    "from scipy.integrate import quad # For integration\n",
    "# Documentation and examples for quad : \n",
    "# https://docs.scipy.org/doc/scipy/reference/generated/scipy.integrate.quad.html\n",
    "# https://www.tutorialspoint.com/scipy/scipy_integrate.htm"
   ]
  },
  {
   "cell_type": "markdown",
   "metadata": {
    "collapsed": true
   },
   "source": [
    "## Part A:  Schechter Fxn\n",
    "\n",
    "The galaxy luminosity function in the nearby universe is well described by a Schechter Function:\n",
    "\n",
    "\\begin{equation}\n",
    "\\Phi(M)dM = ( 0.4 \\, ln10 ) \\, \\phi_\\ast \\, 10^{0.4(M_\\ast - M)(\\alpha +1)} e^{-10^{0.4(M_\\ast - M)}} dM\n",
    "\\end{equation}\n",
    "\n",
    "With the following parameters from Smith+2009 for Field Galaxies in SDSS at z$\\sim$0.1 in the Kband:\n",
    "\n",
    "\n",
    " $\\phi_\\ast$ =1.66 $  \\times 10^{-2}$  $h^3$ Mpc$^{-3}$\n",
    "\n",
    " $\\alpha$ =  -0.81 \n",
    "\n",
    "\n",
    "  M$_\\ast$ =  M$_k^\\ast$= -23.19  - 5*log($h$) (this is absolute magnitude)\n",
    "  \n",
    " $h$ = the Hubble constant in units of 100 km/s/Mpc . At z=0 this is 0.7. But we are going to se $h$=1 here. Units will then be in \"comoving\" coordinates.\n",
    "  \n",
    "  This function is defined for you below:"
   ]
  },
  {
   "cell_type": "code",
   "execution_count": 42,
   "metadata": {},
   "outputs": [],
   "source": [
    "# functions start lowercase\n",
    "\n",
    "def schechter_M(m,phi_star=0.0166,m_star=-23.19,alpha=-0.81):\n",
    "    \"\"\" Function that computes the Schechter Luminosity Function for a given magnitude, \n",
    "    assuming default parameters for field galaxies in SDSS at z~0.1 in the Kband (Smith+2009)\n",
    "    \n",
    "    Inputs\n",
    "        m : an array of floats\n",
    "            an array of Kband magnitudes  (assumes -5*log(h) implicitly)\n",
    "        phi_star:  float\n",
    "            normalization of Schechter fxn (h^3 Mpc^-3)\n",
    "        m_star:  float \n",
    "            knee of the Schechter fxn (K-band magnitude, assumes -5*log(h) implicitly)\n",
    "        alpha:  float\n",
    "            faint end slope of the Schechter fxn\n",
    "    \n",
    "    Output:\n",
    "        schechterM: float\n",
    "            number density of galaxies (comoving units) at the given magnitude m - 5*log(h)\n",
    "\n",
    "    \"\"\"\n",
    "\n",
    "# You should divide up long functions instead of writing them out as one long set\n",
    "    a = 0.4*np.log(10)*phi_star # Grouping all constants together\n",
    "    b = 10**(0.4*(m_star-m)*(alpha+1.0)) # The Power Law, controlling the faint end slope\n",
    "    c = np.exp(-10**(0.4*(m_star-m))) # The Exponential controlling the high mass end behavior\n",
    "    schechterM = a*b*c # schechter function for the given magnitude\n",
    "# i.e. don't do the below\n",
    "#    return 0.4*np.log(10)*phistar*10**(0.4*(Mstar - M)*(alpha +1.0))*np.exp(-10**(0.4*(Mstar - M)))\n",
    "\n",
    "    return schechterM"
   ]
  },
  {
   "cell_type": "markdown",
   "metadata": {},
   "source": [
    "# Q1 \n",
    "\n",
    "Utilizing the defined function, plot the Schechter Function using the above parameter values over a magnitude range of -17 to -26. \n",
    "Try to reproduce the black solid line in Smith+2009 MNRAS 397,868 [UKIDSS Survey] Figure below.\n",
    "\n",
    "\n",
    "![Smith](./Smith09.png)"
   ]
  },
  {
   "cell_type": "markdown",
   "metadata": {},
   "source": [
    "# Q2 \n",
    "\n",
    "Galaxies in the Virgo Cluster have different parameters, like $\\alpha$=-1.35  (Ferrarese+2016 ApJ 824).\n",
    "\n",
    "(Changes the number of low mass versus high mass galaxies)\n",
    "\n",
    "Overplot the Schechter Function with this new value of $\\alpha$.  \n",
    "\n",
    "Try a smaller value of $\\alpha = -0.6$.\n",
    "\n",
    "How does the function change?  What does this mean? \n"
   ]
  },
  {
   "cell_type": "code",
   "execution_count": 43,
   "metadata": {},
   "outputs": [
    {
     "data": {
      "text/plain": [
       "array([-26. , -25.9, -25.8, -25.7, -25.6, -25.5, -25.4, -25.3, -25.2,\n",
       "       -25.1, -25. , -24.9, -24.8, -24.7, -24.6, -24.5, -24.4, -24.3,\n",
       "       -24.2, -24.1, -24. , -23.9, -23.8, -23.7, -23.6, -23.5, -23.4,\n",
       "       -23.3, -23.2, -23.1, -23. , -22.9, -22.8, -22.7, -22.6, -22.5,\n",
       "       -22.4, -22.3, -22.2, -22.1, -22. , -21.9, -21.8, -21.7, -21.6,\n",
       "       -21.5, -21.4, -21.3, -21.2, -21.1, -21. , -20.9, -20.8, -20.7,\n",
       "       -20.6, -20.5, -20.4, -20.3, -20.2, -20.1, -20. , -19.9, -19.8,\n",
       "       -19.7, -19.6, -19.5, -19.4, -19.3, -19.2, -19.1, -19. , -18.9,\n",
       "       -18.8, -18.7, -18.6, -18.5, -18.4, -18.3, -18.2, -18.1, -18. ,\n",
       "       -17.9, -17.8, -17.7, -17.6, -17.5, -17.4, -17.3, -17.2, -17.1,\n",
       "       -17. , -16.9])"
      ]
     },
     "execution_count": 43,
     "metadata": {},
     "output_type": "execute_result"
    }
   ],
   "source": [
    "# Create an array to store Kband Magnitudes from -26 to -17\n",
    "\n",
    "mK = np.arange(-26,-16.9,0.1)\n",
    "\n",
    "mK"
   ]
  },
  {
   "cell_type": "code",
   "execution_count": 44,
   "metadata": {},
   "outputs": [
    {
     "data": {
      "image/png": "[encoded data removed]",
      "text/plain": [
       "<Figure size 720x720 with 1 Axes>"
      ]
     },
     "metadata": {
      "needs_background": "light"
     },
     "output_type": "display_data"
    }
   ],
   "source": [
    "# Plot the Schechter Function\n",
    "\n",
    "fig = plt.figure(figsize=(10,10))  # sets the scale of the figure\n",
    "ax = plt.subplot(111) \n",
    "\n",
    "# Plot the default values (y axis log)\n",
    "ax.semilogy(mK, schechter_M(mK), color='b', linewidth=5, label='Smith+09')\n",
    "\n",
    "# Q2 solutions: change alpha\n",
    "ax.semilogy(mK, schechter_M(mK, alpha=-1.35), color='r', linestyle=':',\n",
    "            linewidth=3, label=r'high $\\alpha$=-1.35')\n",
    "\n",
    "ax.semilogy(mK, schechter_M(mK, alpha=-0.6), color='g', linestyle='--',\n",
    "            linewidth=3, label=r'low $\\alpha$=-0.6')\n",
    "\n",
    "\n",
    "# Add labels\n",
    "plt.xlabel(r'M$_k$ + 5Log($h$)', fontsize=22)\n",
    "plt.ylabel(r'$\\Phi$ (Mpc$^{-3}h^3$/mag)', fontsize=22)\n",
    "\n",
    "#set axis limits\n",
    "plt.xlim(-17,-26)\n",
    "\n",
    "#adjust tick label font size\n",
    "label_size = 22\n",
    "matplotlib.rcParams['xtick.labelsize'] = label_size \n",
    "matplotlib.rcParams['ytick.labelsize'] = label_size\n",
    "\n",
    "# add a legend with some customizations.\n",
    "legend = ax.legend(loc='upper right',fontsize='x-large')\n",
    "\n",
    "# Save to a file\n",
    "plt.savefig('Schechter_M.png')\n",
    "\n"
   ]
  },
  {
   "cell_type": "markdown",
   "metadata": {},
   "source": [
    "# Q3\n",
    "\n",
    "Build a function to compute the Schechter Function in terms of luminosity.\n",
    "\n",
    "Use `quad` to numerically integrate the function to compute the fraction of the luminosity that lies above L* in the following three cases:  \n",
    "\n",
    "$\\alpha$=-0.7 (default), $\\alpha$=-0.6, $\\alpha$=1.85. \n",
    "\n",
    "\n",
    "Schecheter Function $\\Phi(L) = \\frac{n_\\ast}{L_\\ast} (\\frac{L}{L_\\ast})  ^{\\alpha}  e^{-L/L_\\ast}$\n",
    "\n",
    "$n_\\ast$ = 0.008  $h^3$ Mpc$^{-3}$\n",
    "\n",
    "$L_\\star = 1.4 \\times 10^{10} L_\\odot$"
   ]
  },
  {
   "cell_type": "code",
   "execution_count": 45,
   "metadata": {},
   "outputs": [],
   "source": [
    "def schechter_L(lum, n_star=8e-3, l_star=1.4e10, alpha=-0.7):\n",
    "    '''\n",
    "    This function computes the schechter luminosity function for a given luminosity \n",
    "    \n",
    "    defaults are from Sparke & Gallagher\n",
    "    \n",
    "    inputs:\n",
    "        lum: array of floats\n",
    "            Array of luminosities (Lsun)\n",
    "            \n",
    "        n_star: float\n",
    "            normalization of the schechter function (h^3 Mpc^-3)\n",
    "        l_star: float\n",
    "            Knee of the Schechter function aka characteristic luminosity (Lsun)\n",
    "        alpha: float\n",
    "            faint end slope\n",
    "            \n",
    "    outputs:\n",
    "        schechter_L: float\n",
    "            number density of galaxies for a given luminosity (h^3 * Mpc^-3/Lsun)\n",
    "    \n",
    "    '''\n",
    "    \n",
    "    # break down equation into parts\n",
    "    a = (lum/l_star)**alpha # faint end\n",
    "    b = np.exp(-lum/l_star) # bright end\n",
    "    c = n_star/l_star #constants\n",
    "    \n",
    "    schechter_L = a*b*c\n",
    "    \n",
    "    return schechter_L \n",
    "    "
   ]
  },
  {
   "cell_type": "code",
   "execution_count": 49,
   "metadata": {},
   "outputs": [
    {
     "name": "stdout",
     "output_type": "stream",
     "text": [
      "30\n"
     ]
    }
   ],
   "source": [
    "# Understanding lambda functions\n",
    "# Short cut -- defines and evaluates a function in one line ! \n",
    "\n",
    "# lambda says that a function follows, \n",
    "# where the variables are a and b, \n",
    "# and the function to be evaluated is a*b\n",
    "x = lambda a, b : a * b\n",
    "print(x(5, 6))"
   ]
  },
  {
   "cell_type": "code",
   "execution_count": 8,
   "metadata": {},
   "outputs": [
    {
     "name": "stdout",
     "output_type": "stream",
     "text": [
      "(2.0, 2.220446049250313e-14)\n",
      "(2.0, 2.220446049250313e-14)\n",
      "(2.0, 2.220446049250313e-14)\n"
     ]
    }
   ],
   "source": [
    "# Example Usage of quad and lambda\n",
    "\n",
    "\n",
    "# sine from 0 to pi\n",
    "print(quad(np.sin, 0, np.pi))\n",
    "\n",
    "\n",
    "f = lambda x: np.sin(x)\n",
    "print(quad(f, 0, np.pi))\n",
    "# first element quad is the integral, second element is the error\n",
    "\n",
    "\n",
    "def ex(x):\n",
    "    return np.sin(x) \n",
    "\n",
    "print(quad(lambda x: ex(x), 0, np.pi))\n",
    "\n"
   ]
  },
  {
   "cell_type": "markdown",
   "metadata": {},
   "source": [
    "compute the fraction of the luminosity that lies above L* in the following three cases:\n",
    "\n",
    "𝛼 =-0.7 (default),  𝛼 =-0.6,  𝛼 =1.85.\n",
    "\n",
    "\n",
    "total amount of light\n",
    "L = integral(L*$\\Phi$*dL)"
   ]
  },
  {
   "cell_type": "code",
   "execution_count": 51,
   "metadata": {},
   "outputs": [
    {
     "name": "stdout",
     "output_type": "stream",
     "text": [
      "(49678654.46727106, 0.00015538562429551206)\n",
      "flux ratio for (>L*/L_tot) 0.494\n"
     ]
    }
   ],
   "source": [
    "# what fraction of the integrated L density lies above L*\n",
    "# alpha =-0.7\n",
    "                        # function.          range\n",
    "l_upper = quad(lambda L: L*schechter_L(L), 1.4e10, 1e14 )\n",
    "print(l_upper)\n",
    "\n",
    "l_total = quad(lambda L: L*schechter_L(L), .1, 1e14)\n",
    "print('flux ratio for (>L*/L_tot)', np.round(l_upper[0]/l_total[0], 3))"
   ]
  },
  {
   "cell_type": "markdown",
   "metadata": {},
   "source": [
    "half of the light is above L*"
   ]
  },
  {
   "cell_type": "code",
   "execution_count": 52,
   "metadata": {},
   "outputs": [
    {
     "name": "stdout",
     "output_type": "stream",
     "text": [
      "(41202497.41120155, 0.003042993904728064)\n",
      "flux ratio for (>L*/L_tot) 0.368\n"
     ]
    }
   ],
   "source": [
    "# what fraction of the integrated L density lies above L*\n",
    "# alpha =-1\n",
    "                        # function.          range\n",
    "l_upper1 = quad(lambda L: L*schechter_L(L, alpha=-1), 1.4e10, 1e14 )\n",
    "print(l_upper1)\n",
    "\n",
    "l_total1 = quad(lambda L: L*schechter_L(L, alpha=-1), .1, 1e14)\n",
    "print('flux ratio for (>L*/L_tot)', np.round(l_upper1[0]/l_total1[0], 3))"
   ]
  },
  {
   "cell_type": "markdown",
   "metadata": {},
   "source": [
    "changing the slope of the faint end, we put more light in the low mass end than the high mass end\n",
    "which is why the ratio is lower."
   ]
  },
  {
   "cell_type": "code",
   "execution_count": 54,
   "metadata": {},
   "outputs": [
    {
     "name": "stdout",
     "output_type": "stream",
     "text": [
      "(26308850.163707394, 0.04953799562082395)\n",
      "flux ratio for (>L*/L_tot) 0.038\n"
     ]
    }
   ],
   "source": [
    "# what fraction of the integrated L density lies above L*\n",
    "# alpha =-1.85\n",
    "                        # function.          range\n",
    "l_upper2 = quad(lambda L: L*schechter_L(L, alpha=-1.85), 1.4e10, 1e14 )\n",
    "print(l_upper2)\n",
    "\n",
    "l_total2 = quad(lambda L: L*schechter_L(L, alpha=-1.85), .1, 1e14)\n",
    "print('flux ratio for (>L*/L_tot)', np.round(l_upper2[0]/l_total2[0], 3))"
   ]
  },
  {
   "cell_type": "markdown",
   "metadata": {},
   "source": [
    "ratio got even smaller!! the knee is always the same but the drop off changes"
   ]
  },
  {
   "cell_type": "code",
   "execution_count": null,
   "metadata": {},
   "outputs": [],
   "source": []
  },
  {
   "cell_type": "markdown",
   "metadata": {},
   "source": [
    "## Part B: IMF \n",
    "\n",
    "Create a function called `Salpeter` that defines the Salpeter IMF: \n",
    "\n",
    "\\begin{equation}\n",
    "\\xi(M) = \\xi_0 (M/M_\\odot)^{-\\alpha}\n",
    "\\end{equation}\n",
    "\n",
    "$\\alpha = 2.35$\n",
    "The function should take as input an array of stellar masses, M. \n",
    "You will need to determine the normalization, $\\xi_0$, by integrating this equation over mass from 0.1 to 120 M$_\\odot$\n",
    "and setting the value to 1.  The function should then return $\\xi(M)$, which will now represent the fractional number of stars. \n",
    "\n",
    "$\\xi$=1\n",
    "\n",
    "Integration:\n",
    "\n",
    "`quad(lambda x:  fxn(x),xmin,xmax)`\n",
    "\n",
    "quad returns an array with 2 values. you want the first value. \n",
    "Note I've used a \"lambda\" expression.   Python's lambda expressions allow a function to be created and passed around all in one line of code"
   ]
  },
  {
   "cell_type": "code",
   "execution_count": 58,
   "metadata": {},
   "outputs": [],
   "source": [
    "\n",
    "def salpeter(m, m_min=0.1, m_max=120, alpha=2.35):\n",
    "    '''\n",
    "    this function defines the salpeter IMF. The function is normalizedd such that\n",
    "    it returns the fraction of stars expected at the given range of masses assuming stars range from m_min\n",
    "    to m_max\n",
    "    \n",
    "    inputs:\n",
    "        m: array of floats\n",
    "            array of stellar masses (Msun)\n",
    "        m_min: float\n",
    "            minimum mass (Msun)\n",
    "        m_max:\n",
    "            maximum mass (Msun)\n",
    "            \n",
    "        alpha: float\n",
    "            the power law for the salpeter function\n",
    "            \n",
    "    output:\n",
    "        norm_salpeter: float\n",
    "            normalized fraction of stars at a given mass\n",
    "    \n",
    "    '''\n",
    "    \n",
    "    # determine the magnitude of the integral\n",
    "    to_normalize = quad(lambda m: m**(-alpha), m_min, m_max)\n",
    "    \n",
    "    # determine the normalization factor\n",
    "    norm = 1/to_normalize[0]\n",
    "    \n",
    "    # return the normalized salpeter IMF\n",
    "    norm_salpeter = norm*m**(-alpha) # should be a number less than 1\n",
    "    \n",
    "    return norm_salpeter\n",
    "    "
   ]
  },
  {
   "cell_type": "markdown",
   "metadata": {},
   "source": [
    "## Q1: \n",
    "Double Check: if you integrate your function from 0.1 to 120 you should return 1.0 \n"
   ]
  },
  {
   "cell_type": "code",
   "execution_count": 63,
   "metadata": {},
   "outputs": [
    {
     "data": {
      "text/plain": [
       "1.0"
      ]
     },
     "execution_count": 63,
     "metadata": {},
     "output_type": "execute_result"
    }
   ],
   "source": [
    "\n",
    "Test = quad(lambda m: salpeter(m), 0.1, 120)\n",
    "np.round(Test[0], 3)"
   ]
  },
  {
   "cell_type": "markdown",
   "metadata": {
    "collapsed": true
   },
   "source": [
    "## Q2: \n",
    "Integrate your normalized function to compute the fraction of stars with stellar masses greater than the sun and less \n",
    "than 120 M$_\\odot$."
   ]
  },
  {
   "cell_type": "code",
   "execution_count": 64,
   "metadata": {},
   "outputs": [
    {
     "data": {
      "text/plain": [
       "0.045"
      ]
     },
     "execution_count": 64,
     "metadata": {},
     "output_type": "execute_result"
    }
   ],
   "source": [
    "frac = quad(lambda m: salpeter(m), 1., 120)\n",
    "np.round(frac[0], 3)"
   ]
  },
  {
   "cell_type": "markdown",
   "metadata": {},
   "source": [
    "fraction of stars greater than the sun's mass is 0.045"
   ]
  },
  {
   "cell_type": "code",
   "execution_count": 66,
   "metadata": {},
   "outputs": [
    {
     "name": "stdout",
     "output_type": "stream",
     "text": [
      "number of stars in a cluster of 5000 stars 225.0\n"
     ]
    }
   ],
   "source": [
    "# cluster with 5000 stars\n",
    "\n",
    "print('number of stars in a cluster of 5000 stars', 5000*np.round(frac[0], 3))\n"
   ]
  },
  {
   "cell_type": "markdown",
   "metadata": {},
   "source": [
    "## Q3:\n",
    "\n",
    "How might you modify the above to return the fraction of MASS ? instead of fraction of the total numbers of stars."
   ]
  },
  {
   "cell_type": "code",
   "execution_count": 67,
   "metadata": {},
   "outputs": [],
   "source": [
    "\n",
    "def salpeter_Mass(m, m_min=0.1, m_max=120, alpha=2.35):\n",
    "    '''\n",
    "    this function defines the salpeter IMF. The function is normalizedd such that\n",
    "    it returns the fraction of total mass expected at the given range of masses assuming stars range from m_min\n",
    "    to m_max\n",
    "    \n",
    "    inputs:\n",
    "        m: array of floats\n",
    "            array of stellar masses (Msun)\n",
    "        m_min: float\n",
    "            minimum mass (Msun)\n",
    "        m_max:\n",
    "            maximum mass (Msun)\n",
    "            \n",
    "        alpha: float\n",
    "            the power law for the salpeter function\n",
    "            \n",
    "    output:\n",
    "        norm_salpeter: float\n",
    "            normalized fraction of mass over a given m range\n",
    "    \n",
    "    '''\n",
    "    \n",
    "    # determine the magnitude of the integral\n",
    "    to_normalize = quad(lambda m: m*m**(-alpha), m_min, m_max)\n",
    "    \n",
    "    # determine the normalization factor\n",
    "    norm = 1/to_normalize[0]\n",
    "    \n",
    "    # return the normalized salpeter IMF\n",
    "    norm_salpeter = norm*m*m**(-alpha)\n",
    "    \n",
    "    return norm_salpeter"
   ]
  },
  {
   "cell_type": "code",
   "execution_count": 70,
   "metadata": {},
   "outputs": [
    {
     "name": "stdout",
     "output_type": "stream",
     "text": [
      "0.396\n"
     ]
    }
   ],
   "source": [
    "# determine the fraction of mass in stars that are more massive than the sun\n",
    "\n",
    "frac2 = quad(lambda m: salpeter_Mass(m), 1., 120)\n",
    "\n",
    "print(np.round(frac2[0], 3))"
   ]
  },
  {
   "cell_type": "markdown",
   "metadata": {},
   "source": [
    "this tells us that less than half of the total mass of stars are more massive than the sun"
   ]
  },
  {
   "cell_type": "code",
   "execution_count": 71,
   "metadata": {},
   "outputs": [
    {
     "data": {
      "text/plain": [
       "1980.0"
      ]
     },
     "execution_count": 71,
     "metadata": {},
     "output_type": "execute_result"
    }
   ],
   "source": [
    "# 5000 solar mass cluster\n",
    "\n",
    "5000*np.round(frac2[0], 3)"
   ]
  },
  {
   "cell_type": "code",
   "execution_count": null,
   "metadata": {},
   "outputs": [],
   "source": []
  }
 ],
 "metadata": {
  "kernelspec": {
   "display_name": "Python 3",
   "language": "python",
   "name": "python3"
  },
  "language_info": {
   "codemirror_mode": {
    "name": "ipython",
    "version": 3
   },
   "file_extension": ".py",
   "mimetype": "text/x-python",
   "name": "python",
   "nbconvert_exporter": "python",
   "pygments_lexer": "ipython3",
   "version": "3.8.5"
  },
  "toc": {
   "base_numbering": 1,
   "nav_menu": {},
   "number_sections": true,
   "sideBar": true,
   "skip_h1_title": false,
   "title_cell": "Table of Contents",
   "title_sidebar": "Contents",
   "toc_cell": false,
   "toc_position": {},
   "toc_section_display": true,
   "toc_window_display": false
  }
 },
 "nbformat": 4,
 "nbformat_minor": 2
}
