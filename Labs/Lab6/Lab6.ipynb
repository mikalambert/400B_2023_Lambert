{
 "cells": [
  {
   "cell_type": "code",
   "execution_count": 1,
   "metadata": {},
   "outputs": [],
   "source": [
    "# In Class Lab 6\n",
    "# Surface Brightness Profiles\n"
   ]
  },
  {
   "cell_type": "code",
   "execution_count": 2,
   "metadata": {},
   "outputs": [],
   "source": [
    "# Load Modules\n",
    "import numpy as np\n",
    "import astropy.units as u\n",
    "\n",
    "# import plotting modules\n",
    "import matplotlib.pyplot as plt\n",
    "import matplotlib\n",
    "%matplotlib inline\n",
    "\n",
    "# my modules\n",
    "from ReadFile import Read\n",
    "from CenterOfMass import CenterOfMass\n",
    "from MassProfile import MassProfile\n",
    "from GalaxyMass import ComponentMass"
   ]
  },
  {
   "cell_type": "markdown",
   "metadata": {},
   "source": [
    "# Lab 6: Sersic Profiles\n",
    "\n",
    "In this lab we will use Homework 5 solutions to compute the mass profile of the Milky Way's bulge. \n",
    "We will turn the mass profile into a density profile and see if we can fit it reasonably well \n",
    "with a sersic profile. "
   ]
  },
  {
   "cell_type": "markdown",
   "metadata": {},
   "source": [
    "# Part A : \n",
    "\n",
    "Create a function called `sersicE` that returns the Sersic Profile in terms of the effective radius $R_e$ (i.e. the half light radius).\n",
    "\n",
    "$I(r) = I_e exp^{-7.67 ( (r/R_e)^{1/n} - 1)}$\n",
    "\n",
    "Where \n",
    "\n",
    "$ L = 7.2 I_e \\pi R_e^2$\n",
    "\n",
    "and  $R_e$ is the half light radius.  We will assume a mass to light ratio for the stellar bulge of 1, so this is also the half mass radius.\n",
    "\n",
    "The function should take as input: the radius, $R_e$, $n$ and the total stellar mass of the system.\n"
   ]
  },
  {
   "cell_type": "code",
   "execution_count": 39,
   "metadata": {},
   "outputs": [],
   "source": [
    "def sersicE(r, re, n, mtot):\n",
    "    '''\n",
    "    This function that computes the sersic profile for an elliptical galaxy\n",
    "    assuming M/L = 1\n",
    "    \n",
    "    Inputs:\n",
    "        r: 'float'\n",
    "            distance from the center of the galaxy in kpc\n",
    "        re: 'float'\n",
    "            effective radius aka 2d radius that contains half the light in kpc\n",
    "        n: 'float'\n",
    "            sersic index\n",
    "        mtot: 'float'\n",
    "            total stellar mass of the galaxy in Msun\n",
    "    \n",
    "    Outputs:\n",
    "        I: 'array of floats'\n",
    "            the surface brightness profile of the elliptical Lsun/kpc^2\n",
    "    \n",
    "    '''\n",
    "    \n",
    "    # we are assuming M/L ~ 1, so total luminosity is \n",
    "    lum=mtot\n",
    "    \n",
    "    #$ L = 7.2 I_e \\pi R_e^2$\n",
    "    # effective surface brightness\n",
    "    Ie = lum/7.2/np.pi/re**2\n",
    "    \n",
    "    #$I(r) = I_e exp^{-7.67 ( (r/R_e)^{1/n} - 1)}$\n",
    "    # surface brightness - sersic profile\n",
    "    a = (r/re)**(1/n)\n",
    "    b = -7.67*(a-1)\n",
    "    I = Ie*np.exp(b)\n",
    "    \n",
    "    return I\n",
    "    \n",
    "    "
   ]
  },
  {
   "cell_type": "markdown",
   "metadata": {},
   "source": [
    "# Part B\n",
    "\n",
    "a) Create an instance of the MassProfile Class for M31. Store it as a variable `M31`. \n"
   ]
  },
  {
   "cell_type": "code",
   "execution_count": 4,
   "metadata": {},
   "outputs": [],
   "source": [
    "M31 = MassProfile('M31', 0)"
   ]
  },
  {
   "cell_type": "markdown",
   "metadata": {},
   "source": [
    "b) Create an array of radii from 0.1 kpc to 30 kpc in increments of 0.1\n"
   ]
  },
  {
   "cell_type": "code",
   "execution_count": 8,
   "metadata": {},
   "outputs": [],
   "source": [
    "r = np.arange(.1,30,.1)"
   ]
  },
  {
   "cell_type": "markdown",
   "metadata": {},
   "source": [
    "c) Define a new array called `bulge_mass`, that uses the function `massEnclosed` within MassProfile to compute the mass profile of the bulge.  Get rid of astropy units in `bulge_mass` by adding `.value` \n"
   ]
  },
  {
   "cell_type": "code",
   "execution_count": 10,
   "metadata": {},
   "outputs": [],
   "source": [
    "bulge_mass = M31.massEnclosed(3, r).value # stores the mass enclosed as a function of radius"
   ]
  },
  {
   "cell_type": "markdown",
   "metadata": {},
   "source": [
    "d) Compute the surface mass density profile for the simulated bulge and store it as an array called `bulge_I`. Assuming M/L ~ 1 this is also the surface brightness profile in Lsun/kpc^2"
   ]
  },
  {
   "cell_type": "code",
   "execution_count": 14,
   "metadata": {},
   "outputs": [],
   "source": [
    "bulge_I = bulge_mass/(4*np.pi*r**2) # should have first computed density in shelld to get a better result"
   ]
  },
  {
   "cell_type": "markdown",
   "metadata": {},
   "source": [
    "# Part C\n",
    "\n",
    "Compute $R_e$, the half mass radius, for the bulge"
   ]
  },
  {
   "cell_type": "code",
   "execution_count": 17,
   "metadata": {},
   "outputs": [],
   "source": [
    "bulge_total = ComponentMass('M31_000.txt',3)*1e12 # gives total mass of bulge"
   ]
  },
  {
   "cell_type": "code",
   "execution_count": 22,
   "metadata": {},
   "outputs": [
    {
     "name": "stdout",
     "output_type": "stream",
     "text": [
      "1.90e+10\n"
     ]
    }
   ],
   "source": [
    "print(f'{bulge_total:.2e}')\n"
   ]
  },
  {
   "cell_type": "code",
   "execution_count": 23,
   "metadata": {},
   "outputs": [
    {
     "data": {
      "text/plain": [
       "9500000000.0"
      ]
     },
     "execution_count": 23,
     "metadata": {},
     "output_type": "execute_result"
    }
   ],
   "source": [
    "# half totoal bulge mass\n",
    "b_half = bulge_total/2\n",
    "\n",
    "b_half"
   ]
  },
  {
   "cell_type": "code",
   "execution_count": 24,
   "metadata": {},
   "outputs": [],
   "source": [
    "# where is the bulge mass > 1.2 the total mass\n",
    "index = np.where(bulge_mass > b_half)"
   ]
  },
  {
   "cell_type": "code",
   "execution_count": 25,
   "metadata": {},
   "outputs": [
    {
     "data": {
      "text/plain": [
       "9669363719.999996"
      ]
     },
     "execution_count": 25,
     "metadata": {},
     "output_type": "execute_result"
    }
   ],
   "source": [
    "bulge_mass[index][0]"
   ]
  },
  {
   "cell_type": "code",
   "execution_count": 27,
   "metadata": {},
   "outputs": [
    {
     "data": {
      "text/plain": [
       "2.6"
      ]
     },
     "execution_count": 27,
     "metadata": {},
     "output_type": "execute_result"
    }
   ],
   "source": [
    "re_bulge = r[index][0]\n",
    "\n",
    "re_bulge"
   ]
  },
  {
   "cell_type": "markdown",
   "metadata": {},
   "source": [
    "# Part D\n",
    "\n",
    "a) Plot the surface density profile of the simulated bulge\n",
    "\n",
    "b) Plot the Sersic profile, assuming a de Vaucouleurs Profile.\n",
    "\n",
    "c) If the profiles don't match, try changing either $R_e$ or $n$"
   ]
  },
  {
   "cell_type": "code",
   "execution_count": 48,
   "metadata": {},
   "outputs": [
    {
     "data": {
      "image/png": "[encoded data removed]",
      "text/plain": [
       "<Figure size 576x576 with 1 Axes>"
      ]
     },
     "metadata": {
      "needs_background": "light"
     },
     "output_type": "display_data"
    }
   ],
   "source": [
    "# Plot the Bulge density profile vs \n",
    "# the Sersic profile\n",
    "####################################\n",
    "\n",
    "\n",
    "fig = plt.figure(figsize=(8,8))\n",
    "ax = plt.subplot(111)\n",
    "\n",
    "\n",
    "# plot the bulge mass density as a proxy for surface brighntess\n",
    "plt.semilogy(r, bulge_I, color='k', linewidth=3, label='simulated bulge')\n",
    "\n",
    "# YOU ADD HERE: Sersic fit to the surface brightness Sersic fit\n",
    "# Sersic \n",
    "plt.semilogy(r, sersicE(r, re_bulge, 4, bulge_total), \n",
    "             color='r', linestyle='-.', linewidth=3,\n",
    "             label='sersic 4')\n",
    "plt.semilogy(r, sersicE(r, re_bulge, 3, bulge_total), \n",
    "              linestyle='-.', linewidth=3,\n",
    "             label='sersic 3')\n",
    "plt.semilogy(r, sersicE(r, re_bulge, 5, bulge_total), \n",
    "              linestyle='-.', linewidth=3,\n",
    "             label='sersic 5')\n",
    "plt.semilogy(r, sersicE(r, re_bulge, 5.4, bulge_total), \n",
    "              linestyle='-.', linewidth=3,\n",
    "             label='sersic 5.4')\n",
    "plt.semilogy(r, sersicE(r, re_bulge, 6, bulge_total), \n",
    "              linestyle='-.', linewidth=3,\n",
    "             label='sersic 6')\n",
    "\n",
    "\n",
    "#adjust tick label font size\n",
    "label_size = 22\n",
    "matplotlib.rcParams['xtick.labelsize'] = label_size \n",
    "matplotlib.rcParams['ytick.labelsize'] = label_size\n",
    "\n",
    "\n",
    "# Add axis labels\n",
    "plt.xlabel('Radius (kpc)', fontsize=22)\n",
    "plt.ylabel('Log(I)  $L_\\odot/kpc^2$', fontsize=22)\n",
    "\n",
    "\n",
    "\n",
    "# add a legend with some customizations.\n",
    "legend = ax.legend(loc='upper right',fontsize='x-large')\n",
    "\n",
    "\n",
    "plt.savefig('Lab6.png')"
   ]
  },
  {
   "cell_type": "code",
   "execution_count": null,
   "metadata": {
    "collapsed": true
   },
   "outputs": [],
   "source": []
  }
 ],
 "metadata": {
  "kernelspec": {
   "display_name": "Python 3",
   "language": "python",
   "name": "python3"
  },
  "language_info": {
   "codemirror_mode": {
    "name": "ipython",
    "version": 3
   },
   "file_extension": ".py",
   "mimetype": "text/x-python",
   "name": "python",
   "nbconvert_exporter": "python",
   "pygments_lexer": "ipython3",
   "version": "3.8.5"
  },
  "toc": {
   "base_numbering": 1,
   "nav_menu": {},
   "number_sections": true,
   "sideBar": true,
   "skip_h1_title": false,
   "title_cell": "Table of Contents",
   "title_sidebar": "Contents",
   "toc_cell": false,
   "toc_position": {},
   "toc_section_display": true,
   "toc_window_display": false
  }
 },
 "nbformat": 4,
 "nbformat_minor": 2
}
