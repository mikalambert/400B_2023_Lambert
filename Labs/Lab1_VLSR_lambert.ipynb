{
 "cells": [
  {
   "cell_type": "markdown",
   "metadata": {},
   "source": [
    "# In Class Lab 1\n",
    "\n",
    "### Due by 5 PM Jan 31st in your github repository 'Labs/Lab1' folder\n",
    "\n",
    "## Part A:  The Local Standard of Rest\n",
    "Proper motion of Sgr A* from Reid & Brunthaler 2004\n",
    "$\\mu = 6.379$ mas/yr \n",
    "\n",
    "Peculiar motion of the sun, $v_\\odot$ = 12.24 km/s  (Schonrich 2010)\n",
    "\n",
    "\n",
    "$v_{tan} = 4.74 \\frac{\\mu}{\\rm mas/yr} \\frac{R_o}{\\rm kpc} = V_{LSR} + v_\\odot$\n",
    "\n",
    "\n",
    "### a)\n",
    "\n",
    "Create a function called VLSR to compute the local standard of res (V$_{LSR}$).\n",
    "\n",
    "The function should take as input: the solar radius (R$_o$), the proper motion (mu)\n",
    "and the peculiar motion of the sun in the $v_\\odot$ direction.\n",
    "\n",
    "Compute V$_{LSR}$ using three different values R$_o$: \n",
    "1. Water Maser Distance for the Sun :  R$_o$ = 8.34 kpc   (Reid 2014 ApJ 783) \n",
    "2. GRAVITY Collaboration Distance for the Sun:  R$_o$ = 8.178 kpc   (Abuter+2019 A&A 625)\n",
    "3. Value for Distance to Sun listed in Sparke & Gallagher : R$_o$ = 7.9 kpc \n"
   ]
  },
  {
   "cell_type": "code",
   "execution_count": 1,
   "metadata": {},
   "outputs": [],
   "source": [
    "# Import Modules \n",
    "import numpy as np # import numpy\n",
    "import astropy.units as u # import astropy units\n",
    "from astropy import constants as const # import astropy constants"
   ]
  },
  {
   "cell_type": "code",
   "execution_count": 2,
   "metadata": {},
   "outputs": [],
   "source": [
    "def VLSR(Ro, mu = 6.379, vsun = 12.24*u.km/u.s):\n",
    "    '''\n",
    "    This function computes the velocity at the local standard of rest(VLSR)\n",
    "                    VLSR = 4.74*mu*Ro-vsun\n",
    "    inputs:\n",
    "    \n",
    "        Ro: 'astropy quantity' \n",
    "            The distace from the sun to thee galactic center in kpc\n",
    "        mu: 'float'\n",
    "            The proper motion of Sag A* in mas/yr. \n",
    "            Default is from Reid & Brunthaler 2004\n",
    "        vsun: 'astropy quantity'\n",
    "            The peculiar motion of the sun in the v direction (km/s)\n",
    "            Default is from Schronrich + 2010\n",
    "    outputs:\n",
    "        VSLSR: 'astropy quantity'\n",
    "            The velocity of the local standard of rest (km/s)\n",
    "            \n",
    "    \n",
    "    '''\n",
    "    # NOTE: have to take out the units in order to multiply\n",
    "    return 4.74*mu*(Ro/u.kpc)*u.km/u.s - (vsun)\n",
    "    "
   ]
  },
  {
   "cell_type": "code",
   "execution_count": 3,
   "metadata": {},
   "outputs": [],
   "source": [
    "# define our distances to the galactic center from the Sun\n",
    "RoReid = 8.34 *u.kpc # distance from Reid et al. 2014 in kpc\n",
    "RoGravity = 8.178 *u.kpc # distance from GRAVITY collab Abuyere + 2019 in kpc\n",
    "RoSG = 7.9*u.kpc # distance from the Sparke and Gallagher in kpc"
   ]
  },
  {
   "cell_type": "code",
   "execution_count": 4,
   "metadata": {},
   "outputs": [
    {
     "name": "stdout",
     "output_type": "stream",
     "text": [
      "239.9320764 km / s\n"
     ]
    }
   ],
   "source": [
    "# compute VLSR using Ro from Reid 2014\n",
    "VLSR_Reid = VLSR(RoReid)\n",
    "print(VLSR_Reid)\n"
   ]
  },
  {
   "cell_type": "code",
   "execution_count": 5,
   "metadata": {},
   "outputs": [
    {
     "name": "stdout",
     "output_type": "stream",
     "text": [
      "235.0 km / s\n"
     ]
    }
   ],
   "source": [
    "#compute VLSR using Ro from GRAVITY collab\n",
    "VLSR_Gravity = VLSR(RoGravity)\n",
    "print(np.round(VLSR_Gravity))\n"
   ]
  },
  {
   "cell_type": "code",
   "execution_count": 6,
   "metadata": {},
   "outputs": [
    {
     "name": "stdout",
     "output_type": "stream",
     "text": [
      "227.0 km / s\n"
     ]
    }
   ],
   "source": [
    "#compute VLSR using Ro from Sparke & Gallagher\n",
    "VLSR_SG = VLSR(RoSG)\n",
    "print(np.round(VLSR_SG))"
   ]
  },
  {
   "cell_type": "markdown",
   "metadata": {},
   "source": [
    "### b)\n",
    "\n",
    "compute the orbital period of the sun in Gyr using R$_o$ from the GRAVITY Collaboration (assume circular orbit)\n",
    "\n",
    "Note that 1 km/s $\\sim$ 1kpc/Gyr"
   ]
  },
  {
   "cell_type": "code",
   "execution_count": 7,
   "metadata": {},
   "outputs": [],
   "source": [
    "def TorbSun(R, V):\n",
    "    '''\n",
    "    This function will compute thee orbital period of the sun\n",
    "        T = 2 pi R / V\n",
    "        \n",
    "    inputs:\n",
    "        R: 'astropy quantity'\n",
    "        distance in kpc (distance to the galactic center)\n",
    "        V: 'astropy quantity'\n",
    "        velocity in km/s (velocity of the sun in the v direction)\n",
    "        \n",
    "    outputs:\n",
    "        T: 'astropy quantity'\n",
    "        orbital period in Gyr\n",
    "        \n",
    "    '''\n",
    "    \n",
    "    VkpcGyr = V.to(u.kpc/u.Gyr) # converting V from km/s to kpc/Gyr\n",
    "    \n",
    "    T = 2*np.pi*R/VkpcGyr\n",
    "    \n",
    "    return T\n",
    "    "
   ]
  },
  {
   "cell_type": "code",
   "execution_count": 8,
   "metadata": {},
   "outputs": [],
   "source": [
    "# velocity of the sun = VLSR + peculiar motion\n",
    "VsunPeculiar = 12.24*u.km/u.s\n",
    "Vsun = VLSR_Gravity + VsunPeculiar"
   ]
  },
  {
   "cell_type": "code",
   "execution_count": 9,
   "metadata": {},
   "outputs": [
    {
     "name": "stdout",
     "output_type": "stream",
     "text": [
      "0.20318680562272234 Gyr\n"
     ]
    }
   ],
   "source": [
    "# compute orbital period of the sun\n",
    "# use Ro frmo gravity collab\n",
    "\n",
    "T_grav = TorbSun(RoGravity, Vsun)\n",
    "print(T_grav)"
   ]
  },
  {
   "cell_type": "markdown",
   "metadata": {},
   "source": [
    "### c)\n",
    "\n",
    "Compute the number of rotations about the GC over the age of the universe (13.8 Gyr)"
   ]
  },
  {
   "cell_type": "code",
   "execution_count": 10,
   "metadata": {},
   "outputs": [
    {
     "name": "stdout",
     "output_type": "stream",
     "text": [
      "67.91779593023313\n"
     ]
    }
   ],
   "source": [
    "# age of universe/ orbital period\n",
    "Age = 13.8*u.Gyr # age of universe\n",
    "print(Age/T_grav)"
   ]
  },
  {
   "cell_type": "markdown",
   "metadata": {},
   "source": [
    " sun has gone around the MW 68 times"
   ]
  },
  {
   "cell_type": "markdown",
   "metadata": {},
   "source": [
    "## Part B  Dark Matter Density Profiles\n",
    "\n",
    "### a)\n",
    "Try out Fitting Rotation Curves \n",
    "[here](http://wittman.physics.ucdavis.edu/Animations/RotationCurve/GalacticRotation.html)\n",
    "\n",
    "\n",
    "### b)\n",
    "\n",
    "\n",
    "In the **Isothermal Sphere model**, what is the mass enclosed within the solar radius (R$_o$) in units of M$_\\odot$? \n",
    "\n",
    "Recall that for the Isothermal sphere :\n",
    "$\\rho(r) = \\frac{V_{LSR}^2}{4\\pi G r^2}$\n",
    "\n",
    "NOTE: Isothermal sphere profile provides perfectly flat rotation curve\n",
    "\n",
    "\n",
    "Where $G$ = 4.4985e-6 kpc$^3$/Gyr$^2$/M$_\\odot$, r is in kpc and $V_{LSR}$ is in km/s\n",
    "\n",
    "What about at 260 kpc (in units of  M$_\\odot$) ? "
   ]
  },
  {
   "cell_type": "code",
   "execution_count": 11,
   "metadata": {},
   "outputs": [
    {
     "name": "stdout",
     "output_type": "stream",
     "text": [
      "4.498502151469554e-06 kpc3 / (Gyr2 solMass)\n"
     ]
    }
   ],
   "source": [
    "# gravitational constant in desired units\n",
    "Grav = const.G.to(u.kpc**3/u.Gyr**2/u.Msun)\n",
    "print(Grav)"
   ]
  },
  {
   "cell_type": "code",
   "execution_count": 12,
   "metadata": {},
   "outputs": [],
   "source": [
    "# density profile rho = VLSR^2/(4*pi*G*r^2)\n",
    "# mass = integrate rho dV\n",
    "#     = integral( rho 4*pi**2 dr\n",
    "#     = integral( VLSR**2 / (G*4*pi*r**2) * (4*pi**2) dr\n",
    "#     = (VLSR**2/G) *r\n",
    "\n",
    "def MassIso(r, VLSR):\n",
    "    '''\n",
    "    This function will compute the dark matter mass enclosed within a given distance\n",
    "    assuming a isothermal sphere model for the dark matter\n",
    "    \n",
    "                            M = VLSR**2/G *r\n",
    "    \n",
    "    Inputs:\n",
    "        r: 'astropy quantity'\n",
    "            the distance to the galactic center in kpc\n",
    "        VLSR: 'astropy quantity'\n",
    "            the velocity of the local standard of rest (km/s)\n",
    "        \n",
    "    outputs:\n",
    "        M: Mass enclosed within r in units of Msun\n",
    "    \n",
    "    '''\n",
    "    \n",
    "    VLSRkpcGyr = VLSR.to(u.kpc/u.Gyr) # convert km/s to kpc/Gyr\n",
    "    \n",
    "    M = VLSRkpcGyr**2 / Grav * r # Mass for isothermal sphere\n",
    "    \n",
    "    return M\n",
    "    \n",
    "    "
   ]
  },
  {
   "cell_type": "code",
   "execution_count": 13,
   "metadata": {},
   "outputs": [
    {
     "name": "stdout",
     "output_type": "stream",
     "text": [
      "105038025820.79904 solMass\n"
     ]
    }
   ],
   "source": [
    "MIsoSolar = MassIso(RoGravity, VLSR_Gravity)\n",
    "print(MIsoSolar)"
   ]
  },
  {
   "cell_type": "code",
   "execution_count": 14,
   "metadata": {},
   "outputs": [
    {
     "name": "stdout",
     "output_type": "stream",
     "text": [
      "1.05e+11 solMass\n"
     ]
    }
   ],
   "source": [
    "# print in scientific notation\n",
    "print(f\"{MIsoSolar:.2e}\")"
   ]
  },
  {
   "cell_type": "code",
   "execution_count": 15,
   "metadata": {},
   "outputs": [
    {
     "name": "stdout",
     "output_type": "stream",
     "text": [
      "3.34e+12 solMass\n"
     ]
    }
   ],
   "source": [
    "# compute at 260 kpc\n",
    "\n",
    "MIso260 = MassIso(260*u.kpc, VLSR_Gravity)\n",
    "print(f\"{MIso260:.2e}\")"
   ]
  },
  {
   "cell_type": "markdown",
   "metadata": {},
   "source": [
    "## c) \n",
    "\n",
    "The Leo I satellite is one of the fastest moving satellite galaxies we know. \n",
    "\n",
    "\n",
    "It is moving with 3D velocity of magnitude: Vtot = 196 km/s at a distance of 260 kpc (Sohn 2013 ApJ 768)\n",
    "\n",
    "since we assume all these objects are bound to MW, then this velocity is the escape speed...\n",
    "\n",
    "If we assume that Leo I is moving at the escape speed:\n",
    "\n",
    "$v_{esc}^2 = 2|\\Phi| = 2 \\int G \\frac{\\rho(r)}{r}dV $ \n",
    "\n",
    "and assuming the Milky Way is well modeled by a Hernquist Sphere with a scale radius of $a$= 30 kpc, what is the minimum mass of the Milky Way (in units of M$_\\odot$) ?  \n",
    "\n",
    "How does this compare to estimates of the mass assuming the Isothermal Sphere model at 260 kpc (from your answer above)"
   ]
  },
  {
   "cell_type": "code",
   "execution_count": 17,
   "metadata": {},
   "outputs": [],
   "source": [
    "# potential for Hernquist profile \n",
    "# Phi = -GM/(r+a)\n",
    "\n",
    "# using the potential for herquist profile, the equation for the escape speed is;\n",
    "# v_esc**2 =  2*(GM/(r+a))\n",
    "\n",
    "# rearrange the escape speed equation for M bc minimum mass is escpae speed\n",
    "# M = vesc**2(r+a)/(2G)\n",
    "\n",
    "\n",
    "def MassFromVesc(vesc, r, a):\n",
    "    '''\n",
    "    This function determines the total mass needed for a given escape speed\n",
    "    assuming a hernquist profile for the dark matter halo\n",
    "    \n",
    "    M = vesc**2(r+a)/(2G)\n",
    "    \n",
    "    inputs: \n",
    "            vesc: 'astropy quantity'\n",
    "                escape speed in km/s (speed of satellite)\n",
    "            r: 'astropy quantity'\n",
    "                distance from galactic center (kpc)\n",
    "            a: 'astropy quantity'\n",
    "                hernquist scale length (kpc) where density profile switches to 1/r^4\n",
    "    \n",
    "    outputs:\n",
    "        M:'astropy quantity'\n",
    "            total mass of within  r in Msun\n",
    "    '''\n",
    "    \n",
    "    vescKpcGyr = vesc.to(u.kpc/u.Gyr) # converting vellocity units to kpc/gyr\n",
    "    \n",
    "    M = vescKpcGyr**2/2/Grav * (r+a) # required mass\n",
    "    \n",
    "    return M\n",
    "    \n",
    "\n"
   ]
  },
  {
   "cell_type": "code",
   "execution_count": 18,
   "metadata": {},
   "outputs": [],
   "source": [
    "VLeoI = 196*u.km/u.s # speed of Leo I (Sohn + 2013 ApJ 768)\n",
    "a = 30*u.kpc # scale radius for the Hernquist Halo\n",
    "r = 260*u.kpc # galactocentric distance of LeoI\n"
   ]
  },
  {
   "cell_type": "code",
   "execution_count": 20,
   "metadata": {},
   "outputs": [
    {
     "name": "stdout",
     "output_type": "stream",
     "text": [
      "1295146976857.1042 solMass\n"
     ]
    }
   ],
   "source": [
    "#compute the mass to keep leoI bound\n",
    "MLeoI = MassFromVesc(VLeoI, r, a)\n",
    "\n",
    "print(MLeoI)"
   ]
  },
  {
   "cell_type": "code",
   "execution_count": 22,
   "metadata": {},
   "outputs": [
    {
     "name": "stdout",
     "output_type": "stream",
     "text": [
      "1.30e+12 solMass\n"
     ]
    }
   ],
   "source": [
    "print(f\"{MLeoI:.2e}\")"
   ]
  },
  {
   "cell_type": "code",
   "execution_count": 25,
   "metadata": {},
   "outputs": [
    {
     "name": "stdout",
     "output_type": "stream",
     "text": [
      "2.57842044547553\n"
     ]
    }
   ],
   "source": [
    "print(MIso260/MLeoI)\n"
   ]
  },
  {
   "cell_type": "code",
   "execution_count": null,
   "metadata": {},
   "outputs": [],
   "source": [
    "# mass increases linearly with radius \n",
    "# and we expect this ratio because the hernquist profile goes as 1/r^4"
   ]
  }
 ],
 "metadata": {
  "kernelspec": {
   "display_name": "Python 3",
   "language": "python",
   "name": "python3"
  },
  "language_info": {
   "codemirror_mode": {
    "name": "ipython",
    "version": 3
   },
   "file_extension": ".py",
   "mimetype": "text/x-python",
   "name": "python",
   "nbconvert_exporter": "python",
   "pygments_lexer": "ipython3",
   "version": "3.8.5"
  },
  "toc": {
   "base_numbering": 1,
   "nav_menu": {},
   "number_sections": true,
   "sideBar": true,
   "skip_h1_title": false,
   "title_cell": "Table of Contents",
   "title_sidebar": "Contents",
   "toc_cell": false,
   "toc_position": {},
   "toc_section_display": true,
   "toc_window_display": false
  }
 },
 "nbformat": 4,
 "nbformat_minor": 2
}
